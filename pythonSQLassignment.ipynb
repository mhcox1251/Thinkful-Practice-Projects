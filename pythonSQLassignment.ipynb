{
  "nbformat": 4,
  "nbformat_minor": 0,
  "metadata": {
    "colab": {
      "name": "pythonSQLassignment.ipynb",
      "provenance": [],
      "collapsed_sections": [],
      "include_colab_link": true
    },
    "kernelspec": {
      "name": "python3",
      "display_name": "Python 3"
    }
  },
  "cells": [
    {
      "cell_type": "markdown",
      "metadata": {
        "id": "view-in-github",
        "colab_type": "text"
      },
      "source": [
        "<a href=\"https://colab.research.google.com/github/mhcox1251/Thinkful-Practice-Projects/blob/master/pythonSQLassignment.ipynb\" target=\"_parent\"><img src=\"https://colab.research.google.com/assets/colab-badge.svg\" alt=\"Open In Colab\"/></a>"
      ]
    },
    {
      "cell_type": "markdown",
      "metadata": {
        "id": "h51It1luPd4l",
        "colab_type": "text"
      },
      "source": [
        "#Assignment description:\n",
        "\n",
        "Using connection credentials provided below, create a Jupyter notebook that uses SQL Alchemy to access a SQL database containing data about movies. Use Python to answer some basic questions about the data.\n",
        "\n",
        "For each question, you should have a separate cell in your Notebook that prints out the answer.\n"
      ]
    },
    {
      "cell_type": "code",
      "metadata": {
        "id": "2W61QFpXfrfW",
        "colab_type": "code",
        "outputId": "c70ec78f-91b4-43b5-82f7-cdc8e4ba9941",
        "colab": {
          "base_uri": "https://localhost:8080/",
          "height": 52
        }
      },
      "source": [
        "#Setting up notebook, connecting tool kits\n",
        "\n",
        "!pip install sqlalchemy\n",
        "!pip install psycopg2\n",
        "\n",
        "# Import the SQL ALchemy engine\n",
        "from sqlalchemy import create_engine"
      ],
      "execution_count": 0,
      "outputs": [
        {
          "output_type": "stream",
          "text": [
            "Requirement already satisfied: sqlalchemy in /usr/local/lib/python3.6/dist-packages (1.3.10)\n",
            "Requirement already satisfied: psycopg2 in /usr/local/lib/python3.6/dist-packages (2.7.6.1)\n"
          ],
          "name": "stdout"
        }
      ]
    },
    {
      "cell_type": "code",
      "metadata": {
        "id": "QHE1dN1DPbBK",
        "colab_type": "code",
        "colab": {}
      },
      "source": [
        "# Database credentials\n",
        "\n",
        "postgres_user = 'dabc_student'\n",
        "postgres_pw = '7*.8G9QH21'\n",
        "postgres_host = '142.93.121.174'\n",
        "postgres_port = '5432'\n",
        "postgres_db = 'dvdrentals'\n",
        "\n",
        "engine = create_engine('postgresql://{}:{}@{}:{}/{}'.format(\n",
        "    postgres_user, postgres_pw, postgres_host, postgres_port, postgres_db))"
      ],
      "execution_count": 0,
      "outputs": []
    },
    {
      "cell_type": "markdown",
      "metadata": {
        "id": "86Wwn-kbrMZM",
        "colab_type": "text"
      },
      "source": [
        "## Question 1:\n",
        "\n",
        "How many movies are released for each rating? "
      ]
    },
    {
      "cell_type": "code",
      "metadata": {
        "id": "DmTYv4Gprm9H",
        "colab_type": "code",
        "outputId": "cb9238dc-3d97-4e0a-f3e2-18a8baaca186",
        "colab": {
          "base_uri": "https://localhost:8080/",
          "height": 35
        }
      },
      "source": [
        "# Use the SQLacademy connection to execute some SQL\n",
        "\n",
        "sql = '''\n",
        "select rating, count(film_id) \n",
        "from film \n",
        "group by rating \n",
        "order by count(film_id) asc\n",
        "'''\n",
        "\n",
        "#Engine.dispose() should be called so that the engine creates brand new database connections local to that fork. \n",
        "ratings = engine.execute(sql)\n",
        "engine.dispose()\n",
        "\n",
        "#process results for use in Python:\n",
        "rows = ratings.fetchall()\n",
        "\n",
        "ratings = [x['rating'] for x in rows]\n",
        "print(rows)"
      ],
      "execution_count": 0,
      "outputs": [
        {
          "output_type": "stream",
          "text": [
            "[('G', 178), ('PG', 194), ('R', 195), ('NC-17', 210), ('PG-13', 223)]\n"
          ],
          "name": "stdout"
        }
      ]
    },
    {
      "cell_type": "markdown",
      "metadata": {
        "id": "HogRqe7GQVl_",
        "colab_type": "text"
      },
      "source": [
        "## Question 2:\n",
        "What is the average rental duration for each rating?\n"
      ]
    },
    {
      "cell_type": "code",
      "metadata": {
        "id": "USjpmCXdq8Ml",
        "colab_type": "code",
        "colab": {}
      },
      "source": [
        "# A simple implementation simply iterating the array\n",
        "\n",
        "def average_duration(numbers):\n",
        "  total_sum = 0;  # initialize the sum to zero\n",
        "  for n in numbers:\n",
        "    total_sum += n # add up the numbers in the array\n",
        "  count = len(numbers)   # find the length of the array\n",
        "  avg = total_sum / count  # calculate the mean\n",
        "  return avg  # return the result"
      ],
      "execution_count": 0,
      "outputs": []
    },
    {
      "cell_type": "code",
      "metadata": {
        "id": "dVFnNhyJug1I",
        "colab_type": "code",
        "colab": {}
      },
      "source": [
        "#fetch data from PostreSQL so we can use it in Python, then do the same for all 5 of the ratings\n",
        "sql_g = '''\n",
        "select film_id, rental_duration\n",
        "from film\n",
        "where rating = 'G'\n",
        "group by film_id, rental_duration\n",
        "'''\n",
        "\n",
        "g = engine.execute(sql_g)\n",
        "engine.dispose()\n",
        "\n",
        "rows = g.fetchall()\n",
        "\n",
        "g_duration = [x['rental_duration'] for x in rows]\n",
        "\n",
        "sql_pg = '''\n",
        "select film_id, rental_duration\n",
        "from film\n",
        "where rating = 'PG'\n",
        "group by film_id, rental_duration\n",
        "'''\n",
        "pg = engine.execute(sql_pg)\n",
        "engine.dispose()\n",
        "\n",
        "rows = pg.fetchall()\n",
        "\n",
        "pg_duration = [x['rental_duration'] for x in rows]"
      ],
      "execution_count": 0,
      "outputs": []
    },
    {
      "cell_type": "code",
      "metadata": {
        "id": "vw6_KTfTuxYm",
        "colab_type": "code",
        "colab": {}
      },
      "source": [
        "\n",
        "sql_nc17 = '''\n",
        "select film_id, rental_duration\n",
        "from film\n",
        "where rating = 'NC-17'\n",
        "group by film_id, rental_duration\n",
        "'''\n",
        "\n",
        "nc17 = engine.execute(sql_nc17)\n",
        "engine.dispose()\n",
        "\n",
        "rows = nc17.fetchall()\n",
        "\n",
        "nc17_duration = [x['rental_duration'] for x in rows]\n"
      ],
      "execution_count": 0,
      "outputs": []
    },
    {
      "cell_type": "code",
      "metadata": {
        "id": "ztoMPZkCvOGq",
        "colab_type": "code",
        "colab": {}
      },
      "source": [
        "sql_pg13 = '''\n",
        "select film_id, rental_duration\n",
        "from film\n",
        "where rating = 'PG-13'\n",
        "group by film_id, rental_duration\n",
        "'''\n",
        "\n",
        "pg13 = engine.execute(sql_pg13)\n",
        "engine.dispose()\n",
        "\n",
        "rows = pg13.fetchall()\n",
        "\n",
        "pg13_duration = [x['rental_duration'] for x in rows]"
      ],
      "execution_count": 0,
      "outputs": []
    },
    {
      "cell_type": "code",
      "metadata": {
        "id": "516Dro_2vOQZ",
        "colab_type": "code",
        "outputId": "3a17e27f-c897-42f3-ed19-0864afa402d8",
        "colab": {
          "base_uri": "https://localhost:8080/",
          "height": 104
        }
      },
      "source": [
        "sql_r = '''\n",
        "select film_id, rental_duration\n",
        "from film\n",
        "where rating = 'R'\n",
        "group by film_id, rental_duration\n",
        "'''\n",
        "r = engine.execute(sql_r)\n",
        "engine.dispose()\n",
        "\n",
        "rows = r.fetchall()\n",
        "\n",
        "r_duration = [x['rental_duration'] for x in rows]\n",
        "\n",
        "#print the results!\n",
        "\n",
        "print('The mean rental duration for G rated movies is {}.'.format(average_duration(g_duration)))\n",
        "print('The mean rental duration for PG rated movies is {}.'.format(average_duration(pg_duration)))\n",
        "print('The mean rental duration for PG-13 rated movies is {}.'.format(average_duration(pg13_duration)))\n",
        "print('The mean rental duration for NC-17 rated movies is {}.'.format(average_duration(nc17_duration)))\n",
        "print('The mean rental duration for R rated movies is {}.'.format(average_duration(r_duration)))"
      ],
      "execution_count": 0,
      "outputs": [
        {
          "output_type": "stream",
          "text": [
            "The mean rental duration for G rated movies is 4.837078651685394.\n",
            "The mean rental duration for PG rated movies is 5.082474226804123.\n",
            "The mean rental duration for PG-13 rated movies is 5.053811659192825.\n",
            "The mean rental duration for NC-17 rated movies is 5.142857142857143.\n",
            "The mean rental duration for R rated movies is 4.774358974358974.\n"
          ],
          "name": "stdout"
        }
      ]
    },
    {
      "cell_type": "markdown",
      "metadata": {
        "id": "CciZ4hbnQhdq",
        "colab_type": "text"
      },
      "source": [
        "## Question 3:\n",
        "\n",
        "What is the mean movie length? Calculate this by defining a function.\n",
        "\n"
      ]
    },
    {
      "cell_type": "code",
      "metadata": {
        "id": "neLi3XokI8LG",
        "colab_type": "code",
        "outputId": "985027b7-24b3-42b9-c292-3d56b873c629",
        "colab": {
          "base_uri": "https://localhost:8080/",
          "height": 35
        }
      },
      "source": [
        "sql = '''\n",
        "select film_id, length\n",
        " from film\n",
        "'''\n",
        "\n",
        "film = engine.execute(sql)\n",
        "engine.dispose()\n",
        "\n",
        "rows = film.fetchall()\n",
        "film_length = [x['length'] for x in rows]\n",
        "\n",
        "def average_length(numbers):\n",
        "  total_sum = 0;  # initialize the sum to zero\n",
        "  for n in numbers:\n",
        "    total_sum += n # add up the numbers in the array\n",
        "  count = len(numbers)   # find the length of the array\n",
        "  avg = total_sum / count  # calculate the mean\n",
        "  return avg  # return the result\n",
        "\n",
        "print('The mean movie length is {} minutes.'.format(average_length(film_length)))"
      ],
      "execution_count": 0,
      "outputs": [
        {
          "output_type": "stream",
          "text": [
            "The mean movie length is 115.272 minutes.\n"
          ],
          "name": "stdout"
        }
      ]
    },
    {
      "cell_type": "markdown",
      "metadata": {
        "id": "-PCriJqfQhsj",
        "colab_type": "text"
      },
      "source": [
        "## Question 4:\n",
        "What is the median movie length? Calculate this by defining a function.\n",
        "\n",
        "\n"
      ]
    },
    {
      "cell_type": "code",
      "metadata": {
        "id": "935mQGlxf_v6",
        "colab_type": "code",
        "outputId": "187bf668-95b8-43bd-c199-523c7be1ee4f",
        "colab": {
          "base_uri": "https://localhost:8080/",
          "height": 35
        }
      },
      "source": [
        "import math\n",
        "\n",
        "def median_length(numbers):\n",
        "  numbers.sort()  # sort the list of numbers\n",
        "  count = len(numbers) # get the length of the array\n",
        "  isEven = count % 2 == 0 # check if this list is of even length\n",
        "  \n",
        "  if (isEven):\n",
        "    # find the two numbers in the middle of the array\n",
        "    mid = math.floor( count / 2 )\n",
        "    a = numbers[mid - 1]\n",
        "    b = numbers[mid]\n",
        "    # find the average of these two numbers\n",
        "    ans = (a + b) / 2\n",
        "  else:\n",
        "    ans = numbers[math.floor( count / 2 )]\n",
        " \n",
        "  return ans\n",
        "\n",
        "print('The median movie length is {} minutes.'.format(median_length(film_length)))"
      ],
      "execution_count": 0,
      "outputs": [
        {
          "output_type": "stream",
          "text": [
            "The median movie length is 114.0 minutes.\n"
          ],
          "name": "stdout"
        }
      ]
    },
    {
      "cell_type": "markdown",
      "metadata": {
        "id": "XwO7-gGOQh2a",
        "colab_type": "text"
      },
      "source": [
        "## Question 5:\n",
        "Calculate the standard deviation of the movie lengths. Calculate this by defining a function."
      ]
    },
    {
      "cell_type": "code",
      "metadata": {
        "id": "8s_YeBIQgAMV",
        "colab_type": "code",
        "outputId": "0da32595-74c1-437c-a23b-78bd4caea940",
        "colab": {
          "base_uri": "https://localhost:8080/",
          "height": 35
        }
      },
      "source": [
        "def standard_deviation(numbers):\n",
        "  X_bar = average_length(numbers)\n",
        "  N = len(numbers)\n",
        "  total_sum = 0\n",
        "  for X in numbers:\n",
        "    diff = X - X_bar\n",
        "    squared = math.pow(diff, 2)\n",
        "    total_sum += squared\n",
        "  sigma = math.sqrt(total_sum / (N - 1))  \n",
        "  return sigma\n",
        "\n",
        "print('The standard deviation of the movie lengths is {}'.format(standard_deviation(film_length)))"
      ],
      "execution_count": 0,
      "outputs": [
        {
          "output_type": "stream",
          "text": [
            "The standard deviation of the movie lengths is 40.42633181855988\n"
          ],
          "name": "stdout"
        }
      ]
    }
  ]
}