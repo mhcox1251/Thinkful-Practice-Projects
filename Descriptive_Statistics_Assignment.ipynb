{
  "nbformat": 4,
  "nbformat_minor": 0,
  "metadata": {
    "colab": {
      "name": "Descriptive Statistics Assignment.ipynb",
      "provenance": [],
      "include_colab_link": true
    },
    "kernelspec": {
      "name": "python3",
      "display_name": "Python 3"
    }
  },
  "cells": [
    {
      "cell_type": "markdown",
      "metadata": {
        "id": "view-in-github",
        "colab_type": "text"
      },
      "source": [
        "<a href=\"https://colab.research.google.com/github/mhcox1251/Thinkful-Practice-Projects/blob/master/Descriptive_Statistics_Assignment.ipynb\" target=\"_parent\"><img src=\"https://colab.research.google.com/assets/colab-badge.svg\" alt=\"Open In Colab\"/></a>"
      ]
    },
    {
      "cell_type": "markdown",
      "metadata": {
        "id": "RiVzmrwZ8k7v",
        "colab_type": "text"
      },
      "source": [
        "#Assignment\n",
        "\n",
        "Using the same database credentials as in the lesson connect to a database named houseprices. This database contain a single table named houseprices. Load this table of data into a DataFrame."
      ]
    },
    {
      "cell_type": "code",
      "metadata": {
        "id": "z2cHgCJhcPfR",
        "colab_type": "code",
        "colab": {
          "base_uri": "https://localhost:8080/",
          "height": 158
        },
        "outputId": "d3e0871c-7fc3-464e-9090-3ea9c496a796"
      },
      "source": [
        "\n",
        "from sqlalchemy import create_engine\n",
        "import pandas as pd\n",
        "from scipy import stats\n",
        "\n",
        "# Database credentials\n",
        "postgres_user = 'dabc_student'\n",
        "postgres_pw = '7*.8G9QH21'\n",
        "postgres_host = '142.93.121.174'\n",
        "postgres_port = '5432'\n",
        "postgres_db = 'houseprices'\n",
        "\n",
        "# use the credentials to start a connection\n",
        "engine = create_engine('postgresql://{}:{}@{}:{}/{}'.format(\n",
        "    postgres_user, postgres_pw, postgres_host, postgres_port, postgres_db))\n",
        "\n",
        "# Use the query to create a DataFrame\n",
        "hp_df = pd.read_sql_table('houseprices', con=engine)\n",
        "\n",
        "# remove the connection\n",
        "engine.dispose()\n",
        "\n",
        "# print 2 rows to see what we got\n",
        "hp_df.head(2)"
      ],
      "execution_count": 3,
      "outputs": [
        {
          "output_type": "execute_result",
          "data": {
            "text/html": [
              "<div>\n",
              "<style scoped>\n",
              "    .dataframe tbody tr th:only-of-type {\n",
              "        vertical-align: middle;\n",
              "    }\n",
              "\n",
              "    .dataframe tbody tr th {\n",
              "        vertical-align: top;\n",
              "    }\n",
              "\n",
              "    .dataframe thead th {\n",
              "        text-align: right;\n",
              "    }\n",
              "</style>\n",
              "<table border=\"1\" class=\"dataframe\">\n",
              "  <thead>\n",
              "    <tr style=\"text-align: right;\">\n",
              "      <th></th>\n",
              "      <th>id</th>\n",
              "      <th>mssubclass</th>\n",
              "      <th>mszoning</th>\n",
              "      <th>lotfrontage</th>\n",
              "      <th>lotarea</th>\n",
              "      <th>street</th>\n",
              "      <th>alley</th>\n",
              "      <th>lotshape</th>\n",
              "      <th>landcontour</th>\n",
              "      <th>utilities</th>\n",
              "      <th>lotconfig</th>\n",
              "      <th>landslope</th>\n",
              "      <th>neighborhood</th>\n",
              "      <th>condition1</th>\n",
              "      <th>condition2</th>\n",
              "      <th>bldgtype</th>\n",
              "      <th>housestyle</th>\n",
              "      <th>overallqual</th>\n",
              "      <th>overallcond</th>\n",
              "      <th>yearbuilt</th>\n",
              "      <th>yearremodadd</th>\n",
              "      <th>roofstyle</th>\n",
              "      <th>roofmatl</th>\n",
              "      <th>exterior1st</th>\n",
              "      <th>exterior2nd</th>\n",
              "      <th>masvnrtype</th>\n",
              "      <th>masvnrarea</th>\n",
              "      <th>exterqual</th>\n",
              "      <th>extercond</th>\n",
              "      <th>foundation</th>\n",
              "      <th>bsmtqual</th>\n",
              "      <th>bsmtcond</th>\n",
              "      <th>bsmtexposure</th>\n",
              "      <th>bsmtfintype1</th>\n",
              "      <th>bsmtfinsf1</th>\n",
              "      <th>bsmtfintype2</th>\n",
              "      <th>bsmtfinsf2</th>\n",
              "      <th>bsmtunfsf</th>\n",
              "      <th>totalbsmtsf</th>\n",
              "      <th>heating</th>\n",
              "      <th>...</th>\n",
              "      <th>centralair</th>\n",
              "      <th>electrical</th>\n",
              "      <th>firstflrsf</th>\n",
              "      <th>secondflrsf</th>\n",
              "      <th>lowqualfinsf</th>\n",
              "      <th>grlivarea</th>\n",
              "      <th>bsmtfullbath</th>\n",
              "      <th>bsmthalfbath</th>\n",
              "      <th>fullbath</th>\n",
              "      <th>halfbath</th>\n",
              "      <th>bedroomabvgr</th>\n",
              "      <th>kitchenabvgr</th>\n",
              "      <th>kitchenqual</th>\n",
              "      <th>totrmsabvgrd</th>\n",
              "      <th>functional</th>\n",
              "      <th>fireplaces</th>\n",
              "      <th>fireplacequ</th>\n",
              "      <th>garagetype</th>\n",
              "      <th>garageyrblt</th>\n",
              "      <th>garagefinish</th>\n",
              "      <th>garagecars</th>\n",
              "      <th>garagearea</th>\n",
              "      <th>garagequal</th>\n",
              "      <th>garagecond</th>\n",
              "      <th>paveddrive</th>\n",
              "      <th>wooddecksf</th>\n",
              "      <th>openporchsf</th>\n",
              "      <th>enclosedporch</th>\n",
              "      <th>threessnporch</th>\n",
              "      <th>screenporch</th>\n",
              "      <th>poolarea</th>\n",
              "      <th>poolqc</th>\n",
              "      <th>fence</th>\n",
              "      <th>miscfeature</th>\n",
              "      <th>miscval</th>\n",
              "      <th>mosold</th>\n",
              "      <th>yrsold</th>\n",
              "      <th>saletype</th>\n",
              "      <th>salecondition</th>\n",
              "      <th>saleprice</th>\n",
              "    </tr>\n",
              "  </thead>\n",
              "  <tbody>\n",
              "    <tr>\n",
              "      <th>0</th>\n",
              "      <td>1</td>\n",
              "      <td>60</td>\n",
              "      <td>RL</td>\n",
              "      <td>65.0</td>\n",
              "      <td>8450</td>\n",
              "      <td>Pave</td>\n",
              "      <td>None</td>\n",
              "      <td>Reg</td>\n",
              "      <td>Lvl</td>\n",
              "      <td>AllPub</td>\n",
              "      <td>Inside</td>\n",
              "      <td>Gtl</td>\n",
              "      <td>CollgCr</td>\n",
              "      <td>Norm</td>\n",
              "      <td>Norm</td>\n",
              "      <td>1Fam</td>\n",
              "      <td>2Story</td>\n",
              "      <td>7</td>\n",
              "      <td>5</td>\n",
              "      <td>2003</td>\n",
              "      <td>2003</td>\n",
              "      <td>Gable</td>\n",
              "      <td>CompShg</td>\n",
              "      <td>VinylSd</td>\n",
              "      <td>VinylSd</td>\n",
              "      <td>BrkFace</td>\n",
              "      <td>196.0</td>\n",
              "      <td>Gd</td>\n",
              "      <td>TA</td>\n",
              "      <td>PConc</td>\n",
              "      <td>Gd</td>\n",
              "      <td>TA</td>\n",
              "      <td>No</td>\n",
              "      <td>GLQ</td>\n",
              "      <td>706</td>\n",
              "      <td>Unf</td>\n",
              "      <td>0</td>\n",
              "      <td>150</td>\n",
              "      <td>856</td>\n",
              "      <td>GasA</td>\n",
              "      <td>...</td>\n",
              "      <td>Y</td>\n",
              "      <td>SBrkr</td>\n",
              "      <td>856</td>\n",
              "      <td>854</td>\n",
              "      <td>0</td>\n",
              "      <td>1710</td>\n",
              "      <td>1</td>\n",
              "      <td>0</td>\n",
              "      <td>2</td>\n",
              "      <td>1</td>\n",
              "      <td>3</td>\n",
              "      <td>1</td>\n",
              "      <td>Gd</td>\n",
              "      <td>8</td>\n",
              "      <td>Typ</td>\n",
              "      <td>0</td>\n",
              "      <td>None</td>\n",
              "      <td>Attchd</td>\n",
              "      <td>2003.0</td>\n",
              "      <td>RFn</td>\n",
              "      <td>2</td>\n",
              "      <td>548</td>\n",
              "      <td>TA</td>\n",
              "      <td>TA</td>\n",
              "      <td>Y</td>\n",
              "      <td>0</td>\n",
              "      <td>61</td>\n",
              "      <td>0</td>\n",
              "      <td>0</td>\n",
              "      <td>0</td>\n",
              "      <td>0</td>\n",
              "      <td>None</td>\n",
              "      <td>None</td>\n",
              "      <td>None</td>\n",
              "      <td>0</td>\n",
              "      <td>2</td>\n",
              "      <td>2008</td>\n",
              "      <td>WD</td>\n",
              "      <td>Normal</td>\n",
              "      <td>208500</td>\n",
              "    </tr>\n",
              "    <tr>\n",
              "      <th>1</th>\n",
              "      <td>2</td>\n",
              "      <td>20</td>\n",
              "      <td>RL</td>\n",
              "      <td>80.0</td>\n",
              "      <td>9600</td>\n",
              "      <td>Pave</td>\n",
              "      <td>None</td>\n",
              "      <td>Reg</td>\n",
              "      <td>Lvl</td>\n",
              "      <td>AllPub</td>\n",
              "      <td>FR2</td>\n",
              "      <td>Gtl</td>\n",
              "      <td>Veenker</td>\n",
              "      <td>Feedr</td>\n",
              "      <td>Norm</td>\n",
              "      <td>1Fam</td>\n",
              "      <td>1Story</td>\n",
              "      <td>6</td>\n",
              "      <td>8</td>\n",
              "      <td>1976</td>\n",
              "      <td>1976</td>\n",
              "      <td>Gable</td>\n",
              "      <td>CompShg</td>\n",
              "      <td>MetalSd</td>\n",
              "      <td>MetalSd</td>\n",
              "      <td>None</td>\n",
              "      <td>0.0</td>\n",
              "      <td>TA</td>\n",
              "      <td>TA</td>\n",
              "      <td>CBlock</td>\n",
              "      <td>Gd</td>\n",
              "      <td>TA</td>\n",
              "      <td>Gd</td>\n",
              "      <td>ALQ</td>\n",
              "      <td>978</td>\n",
              "      <td>Unf</td>\n",
              "      <td>0</td>\n",
              "      <td>284</td>\n",
              "      <td>1262</td>\n",
              "      <td>GasA</td>\n",
              "      <td>...</td>\n",
              "      <td>Y</td>\n",
              "      <td>SBrkr</td>\n",
              "      <td>1262</td>\n",
              "      <td>0</td>\n",
              "      <td>0</td>\n",
              "      <td>1262</td>\n",
              "      <td>0</td>\n",
              "      <td>1</td>\n",
              "      <td>2</td>\n",
              "      <td>0</td>\n",
              "      <td>3</td>\n",
              "      <td>1</td>\n",
              "      <td>TA</td>\n",
              "      <td>6</td>\n",
              "      <td>Typ</td>\n",
              "      <td>1</td>\n",
              "      <td>TA</td>\n",
              "      <td>Attchd</td>\n",
              "      <td>1976.0</td>\n",
              "      <td>RFn</td>\n",
              "      <td>2</td>\n",
              "      <td>460</td>\n",
              "      <td>TA</td>\n",
              "      <td>TA</td>\n",
              "      <td>Y</td>\n",
              "      <td>298</td>\n",
              "      <td>0</td>\n",
              "      <td>0</td>\n",
              "      <td>0</td>\n",
              "      <td>0</td>\n",
              "      <td>0</td>\n",
              "      <td>None</td>\n",
              "      <td>None</td>\n",
              "      <td>None</td>\n",
              "      <td>0</td>\n",
              "      <td>5</td>\n",
              "      <td>2007</td>\n",
              "      <td>WD</td>\n",
              "      <td>Normal</td>\n",
              "      <td>181500</td>\n",
              "    </tr>\n",
              "  </tbody>\n",
              "</table>\n",
              "<p>2 rows × 81 columns</p>\n",
              "</div>"
            ],
            "text/plain": [
              "   id  mssubclass mszoning  ...  saletype  salecondition saleprice\n",
              "0   1          60       RL  ...        WD         Normal    208500\n",
              "1   2          20       RL  ...        WD         Normal    181500\n",
              "\n",
              "[2 rows x 81 columns]"
            ]
          },
          "metadata": {
            "tags": []
          },
          "execution_count": 3
        }
      ]
    },
    {
      "cell_type": "markdown",
      "metadata": {
        "id": "-ze1EC3q93bg",
        "colab_type": "text"
      },
      "source": [
        "1. How many rows of data does the table contain?\n"
      ]
    },
    {
      "cell_type": "code",
      "metadata": {
        "id": "xKGYal7m9XD-",
        "colab_type": "code",
        "colab": {
          "base_uri": "https://localhost:8080/",
          "height": 266
        },
        "outputId": "3ec2de24-a2ea-4e80-97d5-f89cbfa86643"
      },
      "source": [
        "hp_df.info\n",
        "\n",
        "#1. 1460 rows"
      ],
      "execution_count": 4,
      "outputs": [
        {
          "output_type": "execute_result",
          "data": {
            "text/plain": [
              "<bound method DataFrame.info of         id  mssubclass mszoning  ...  saletype  salecondition saleprice\n",
              "0        1          60       RL  ...        WD         Normal    208500\n",
              "1        2          20       RL  ...        WD         Normal    181500\n",
              "2        3          60       RL  ...        WD         Normal    223500\n",
              "3        4          70       RL  ...        WD        Abnorml    140000\n",
              "4        5          60       RL  ...        WD         Normal    250000\n",
              "...    ...         ...      ...  ...       ...            ...       ...\n",
              "1455  1456          60       RL  ...        WD         Normal    175000\n",
              "1456  1457          20       RL  ...        WD         Normal    210000\n",
              "1457  1458          70       RL  ...        WD         Normal    266500\n",
              "1458  1459          20       RL  ...        WD         Normal    142125\n",
              "1459  1460          20       RL  ...        WD         Normal    147500\n",
              "\n",
              "[1460 rows x 81 columns]>"
            ]
          },
          "metadata": {
            "tags": []
          },
          "execution_count": 4
        }
      ]
    },
    {
      "cell_type": "markdown",
      "metadata": {
        "id": "qlEmmPCJ-NaI",
        "colab_type": "text"
      },
      "source": [
        "2. Are there any nulls in any columns?"
      ]
    },
    {
      "cell_type": "code",
      "metadata": {
        "id": "Pp24KnxP-Ps9",
        "colab_type": "code",
        "colab": {
          "base_uri": "https://localhost:8080/",
          "height": 230
        },
        "outputId": "b884b6ee-9738-42fb-bf5d-b056b009bde6"
      },
      "source": [
        "hp_df.isnull().sum(axis = 0)\n",
        "\n",
        "#258 nulls in the lot_frontage coulumn"
      ],
      "execution_count": 14,
      "outputs": [
        {
          "output_type": "execute_result",
          "data": {
            "text/plain": [
              "id                 0\n",
              "mssubclass         0\n",
              "mszoning           0\n",
              "lotfrontage      259\n",
              "lotarea            0\n",
              "                ... \n",
              "mosold             0\n",
              "yrsold             0\n",
              "saletype           0\n",
              "salecondition      0\n",
              "saleprice          0\n",
              "Length: 81, dtype: int64"
            ]
          },
          "metadata": {
            "tags": []
          },
          "execution_count": 14
        }
      ]
    },
    {
      "cell_type": "markdown",
      "metadata": {
        "id": "Lwq9-ghx_fxm",
        "colab_type": "text"
      },
      "source": [
        "3. How many distinct values are there in the mszoning column?"
      ]
    },
    {
      "cell_type": "code",
      "metadata": {
        "id": "-557MWFw_gFQ",
        "colab_type": "code",
        "colab": {
          "base_uri": "https://localhost:8080/",
          "height": 35
        },
        "outputId": "ff55a1dc-32a3-4d40-d0b4-96d942df66b2"
      },
      "source": [
        "hp_df['mszoning'].nunique()\n",
        "\n",
        "#4 unique values in mszoning"
      ],
      "execution_count": 16,
      "outputs": [
        {
          "output_type": "execute_result",
          "data": {
            "text/plain": [
              "5"
            ]
          },
          "metadata": {
            "tags": []
          },
          "execution_count": 16
        }
      ]
    },
    {
      "cell_type": "markdown",
      "metadata": {
        "id": "56fTf8_RAqBm",
        "colab_type": "text"
      },
      "source": [
        "4. How many distinct values are there in the street column?"
      ]
    },
    {
      "cell_type": "code",
      "metadata": {
        "id": "YOt6BXqpAwwH",
        "colab_type": "code",
        "colab": {
          "base_uri": "https://localhost:8080/",
          "height": 35
        },
        "outputId": "13624f30-3f2f-4159-d019-0cd45f910759"
      },
      "source": [
        "hp_df['street'].nunique()\n",
        "\n",
        "#4 unique values in mszoning"
      ],
      "execution_count": 18,
      "outputs": [
        {
          "output_type": "execute_result",
          "data": {
            "text/plain": [
              "2"
            ]
          },
          "metadata": {
            "tags": []
          },
          "execution_count": 18
        }
      ]
    },
    {
      "cell_type": "markdown",
      "metadata": {
        "id": "uzg-AdXEA50Q",
        "colab_type": "text"
      },
      "source": [
        "5. Describe the range of the saleprice."
      ]
    },
    {
      "cell_type": "code",
      "metadata": {
        "id": "a48YXwriA6P7",
        "colab_type": "code",
        "colab": {
          "base_uri": "https://localhost:8080/",
          "height": 177
        },
        "outputId": "ffaf3ab0-7cf1-4e46-f27b-f0662c2c93ee"
      },
      "source": [
        "hp_df['saleprice'].describe()\n",
        "\n",
        "#The min is $34900 and max is $755000, so the range is: $720100"
      ],
      "execution_count": 22,
      "outputs": [
        {
          "output_type": "execute_result",
          "data": {
            "text/plain": [
              "count      1460.000000\n",
              "mean     180921.195890\n",
              "std       79442.502883\n",
              "min       34900.000000\n",
              "25%      129975.000000\n",
              "50%      163000.000000\n",
              "75%      214000.000000\n",
              "max      755000.000000\n",
              "Name: saleprice, dtype: float64"
            ]
          },
          "metadata": {
            "tags": []
          },
          "execution_count": 22
        }
      ]
    },
    {
      "cell_type": "markdown",
      "metadata": {
        "id": "1aYoGE8eBpud",
        "colab_type": "text"
      },
      "source": [
        "6. Describe the range of the lotarea."
      ]
    },
    {
      "cell_type": "code",
      "metadata": {
        "id": "K6HBRYn_Bp7f",
        "colab_type": "code",
        "colab": {
          "base_uri": "https://localhost:8080/",
          "height": 177
        },
        "outputId": "9f495f68-4372-4ce6-8120-6ca7b7f43483"
      },
      "source": [
        "hp_df['lotarea'].describe()\n",
        "\n",
        "#The min is $1300 and max is $215245, so the range is: $213945"
      ],
      "execution_count": 25,
      "outputs": [
        {
          "output_type": "execute_result",
          "data": {
            "text/plain": [
              "count      1460.000000\n",
              "mean      10516.828082\n",
              "std        9981.264932\n",
              "min        1300.000000\n",
              "25%        7553.500000\n",
              "50%        9478.500000\n",
              "75%       11601.500000\n",
              "max      215245.000000\n",
              "Name: lotarea, dtype: float64"
            ]
          },
          "metadata": {
            "tags": []
          },
          "execution_count": 25
        }
      ]
    },
    {
      "cell_type": "markdown",
      "metadata": {
        "id": "56fUWkw0B-JL",
        "colab_type": "text"
      },
      "source": [
        "7. Is there a statistically significant difference between the prices of houses that have an open porch versus houses that do not have an open porch? How did you handle null values? Hint: use the variable openporchsf. You will need to transform this variable so that it can be used in a t-test."
      ]
    },
    {
      "cell_type": "code",
      "metadata": {
        "id": "732Rj4ERDG_z",
        "colab_type": "code",
        "colab": {
          "base_uri": "https://localhost:8080/",
          "height": 35
        },
        "outputId": "b282410f-5cd5-41ed-af7b-a6cde43206ce"
      },
      "source": [
        "hp_df.openporchsf.describe()\n",
        "\n",
        "hp_df.openporchsf.isnull().sum()\n",
        "\n",
        "#There are no nulls in the column."
      ],
      "execution_count": 33,
      "outputs": [
        {
          "output_type": "execute_result",
          "data": {
            "text/plain": [
              "0"
            ]
          },
          "metadata": {
            "tags": []
          },
          "execution_count": 33
        }
      ]
    },
    {
      "cell_type": "code",
      "metadata": {
        "id": "raEbDBcTB-Vm",
        "colab_type": "code",
        "colab": {
          "base_uri": "https://localhost:8080/",
          "height": 1000
        },
        "outputId": "0a263d2f-87f8-4246-b3af-f7897044ba63"
      },
      "source": [
        "#Grab a variable with entries were the house has an open porch:\n",
        "\n",
        "openporch_y = hp_df.iloc[(hp_df['openporchsf'] != 0).values]\n",
        "openporch_y.info()\n",
        "\n",
        "#804 entries w/ porch (if openporchsf is non-zero)"
      ],
      "execution_count": 35,
      "outputs": [
        {
          "output_type": "stream",
          "text": [
            "<class 'pandas.core.frame.DataFrame'>\n",
            "Int64Index: 804 entries, 0 to 1459\n",
            "Data columns (total 81 columns):\n",
            "id               804 non-null int64\n",
            "mssubclass       804 non-null int64\n",
            "mszoning         804 non-null object\n",
            "lotfrontage      659 non-null float64\n",
            "lotarea          804 non-null int64\n",
            "street           804 non-null object\n",
            "alley            52 non-null object\n",
            "lotshape         804 non-null object\n",
            "landcontour      804 non-null object\n",
            "utilities        804 non-null object\n",
            "lotconfig        804 non-null object\n",
            "landslope        804 non-null object\n",
            "neighborhood     804 non-null object\n",
            "condition1       804 non-null object\n",
            "condition2       804 non-null object\n",
            "bldgtype         804 non-null object\n",
            "housestyle       804 non-null object\n",
            "overallqual      804 non-null int64\n",
            "overallcond      804 non-null int64\n",
            "yearbuilt        804 non-null int64\n",
            "yearremodadd     804 non-null int64\n",
            "roofstyle        804 non-null object\n",
            "roofmatl         804 non-null object\n",
            "exterior1st      804 non-null object\n",
            "exterior2nd      804 non-null object\n",
            "masvnrtype       798 non-null object\n",
            "masvnrarea       798 non-null float64\n",
            "exterqual        804 non-null object\n",
            "extercond        804 non-null object\n",
            "foundation       804 non-null object\n",
            "bsmtqual         796 non-null object\n",
            "bsmtcond         796 non-null object\n",
            "bsmtexposure     795 non-null object\n",
            "bsmtfintype1     796 non-null object\n",
            "bsmtfinsf1       804 non-null int64\n",
            "bsmtfintype2     796 non-null object\n",
            "bsmtfinsf2       804 non-null int64\n",
            "bsmtunfsf        804 non-null int64\n",
            "totalbsmtsf      804 non-null int64\n",
            "heating          804 non-null object\n",
            "heatingqc        804 non-null object\n",
            "centralair       804 non-null object\n",
            "electrical       804 non-null object\n",
            "firstflrsf       804 non-null int64\n",
            "secondflrsf      804 non-null int64\n",
            "lowqualfinsf     804 non-null int64\n",
            "grlivarea        804 non-null int64\n",
            "bsmtfullbath     804 non-null int64\n",
            "bsmthalfbath     804 non-null int64\n",
            "fullbath         804 non-null int64\n",
            "halfbath         804 non-null int64\n",
            "bedroomabvgr     804 non-null int64\n",
            "kitchenabvgr     804 non-null int64\n",
            "kitchenqual      804 non-null object\n",
            "totrmsabvgrd     804 non-null int64\n",
            "functional       804 non-null object\n",
            "fireplaces       804 non-null int64\n",
            "fireplacequ      510 non-null object\n",
            "garagetype       778 non-null object\n",
            "garageyrblt      778 non-null float64\n",
            "garagefinish     778 non-null object\n",
            "garagecars       804 non-null int64\n",
            "garagearea       804 non-null int64\n",
            "garagequal       778 non-null object\n",
            "garagecond       778 non-null object\n",
            "paveddrive       804 non-null object\n",
            "wooddecksf       804 non-null int64\n",
            "openporchsf      804 non-null int64\n",
            "enclosedporch    804 non-null int64\n",
            "threessnporch    804 non-null int64\n",
            "screenporch      804 non-null int64\n",
            "poolarea         804 non-null int64\n",
            "poolqc           5 non-null object\n",
            "fence            117 non-null object\n",
            "miscfeature      24 non-null object\n",
            "miscval          804 non-null int64\n",
            "mosold           804 non-null int64\n",
            "yrsold           804 non-null int64\n",
            "saletype         804 non-null object\n",
            "salecondition    804 non-null object\n",
            "saleprice        804 non-null int64\n",
            "dtypes: float64(3), int64(35), object(43)\n",
            "memory usage: 515.1+ KB\n"
          ],
          "name": "stdout"
        }
      ]
    },
    {
      "cell_type": "code",
      "metadata": {
        "id": "DVKetnc7Cv-o",
        "colab_type": "code",
        "colab": {
          "base_uri": "https://localhost:8080/",
          "height": 1000
        },
        "outputId": "3394b170-6398-4c1c-a4d9-ed5fcbad7884"
      },
      "source": [
        "openporch_n = hp_df.iloc[(hp_df['openporchsf'] == 0).values]\n",
        "openporch_n.info()\n",
        "\n",
        "\n",
        "#656 entries w/o porch (if openporchsf is zero)"
      ],
      "execution_count": 38,
      "outputs": [
        {
          "output_type": "stream",
          "text": [
            "<class 'pandas.core.frame.DataFrame'>\n",
            "Int64Index: 656 entries, 1 to 1458\n",
            "Data columns (total 81 columns):\n",
            "id               656 non-null int64\n",
            "mssubclass       656 non-null int64\n",
            "mszoning         656 non-null object\n",
            "lotfrontage      542 non-null float64\n",
            "lotarea          656 non-null int64\n",
            "street           656 non-null object\n",
            "alley            39 non-null object\n",
            "lotshape         656 non-null object\n",
            "landcontour      656 non-null object\n",
            "utilities        656 non-null object\n",
            "lotconfig        656 non-null object\n",
            "landslope        656 non-null object\n",
            "neighborhood     656 non-null object\n",
            "condition1       656 non-null object\n",
            "condition2       656 non-null object\n",
            "bldgtype         656 non-null object\n",
            "housestyle       656 non-null object\n",
            "overallqual      656 non-null int64\n",
            "overallcond      656 non-null int64\n",
            "yearbuilt        656 non-null int64\n",
            "yearremodadd     656 non-null int64\n",
            "roofstyle        656 non-null object\n",
            "roofmatl         656 non-null object\n",
            "exterior1st      656 non-null object\n",
            "exterior2nd      656 non-null object\n",
            "masvnrtype       654 non-null object\n",
            "masvnrarea       654 non-null float64\n",
            "exterqual        656 non-null object\n",
            "extercond        656 non-null object\n",
            "foundation       656 non-null object\n",
            "bsmtqual         627 non-null object\n",
            "bsmtcond         627 non-null object\n",
            "bsmtexposure     627 non-null object\n",
            "bsmtfintype1     627 non-null object\n",
            "bsmtfinsf1       656 non-null int64\n",
            "bsmtfintype2     626 non-null object\n",
            "bsmtfinsf2       656 non-null int64\n",
            "bsmtunfsf        656 non-null int64\n",
            "totalbsmtsf      656 non-null int64\n",
            "heating          656 non-null object\n",
            "heatingqc        656 non-null object\n",
            "centralair       656 non-null object\n",
            "electrical       655 non-null object\n",
            "firstflrsf       656 non-null int64\n",
            "secondflrsf      656 non-null int64\n",
            "lowqualfinsf     656 non-null int64\n",
            "grlivarea        656 non-null int64\n",
            "bsmtfullbath     656 non-null int64\n",
            "bsmthalfbath     656 non-null int64\n",
            "fullbath         656 non-null int64\n",
            "halfbath         656 non-null int64\n",
            "bedroomabvgr     656 non-null int64\n",
            "kitchenabvgr     656 non-null int64\n",
            "kitchenqual      656 non-null object\n",
            "totrmsabvgrd     656 non-null int64\n",
            "functional       656 non-null object\n",
            "fireplaces       656 non-null int64\n",
            "fireplacequ      260 non-null object\n",
            "garagetype       601 non-null object\n",
            "garageyrblt      601 non-null float64\n",
            "garagefinish     601 non-null object\n",
            "garagecars       656 non-null int64\n",
            "garagearea       656 non-null int64\n",
            "garagequal       601 non-null object\n",
            "garagecond       601 non-null object\n",
            "paveddrive       656 non-null object\n",
            "wooddecksf       656 non-null int64\n",
            "openporchsf      656 non-null int64\n",
            "enclosedporch    656 non-null int64\n",
            "threessnporch    656 non-null int64\n",
            "screenporch      656 non-null int64\n",
            "poolarea         656 non-null int64\n",
            "poolqc           2 non-null object\n",
            "fence            164 non-null object\n",
            "miscfeature      30 non-null object\n",
            "miscval          656 non-null int64\n",
            "mosold           656 non-null int64\n",
            "yrsold           656 non-null int64\n",
            "saletype         656 non-null object\n",
            "salecondition    656 non-null object\n",
            "saleprice        656 non-null int64\n",
            "dtypes: float64(3), int64(35), object(43)\n",
            "memory usage: 420.2+ KB\n"
          ],
          "name": "stdout"
        }
      ]
    },
    {
      "cell_type": "code",
      "metadata": {
        "id": "QnHQ1ELhCxmA",
        "colab_type": "code",
        "colab": {
          "base_uri": "https://localhost:8080/",
          "height": 35
        },
        "outputId": "c04a210d-2d29-4cc7-cf71-f3db2eb2dbd8"
      },
      "source": [
        "stats.ttest_ind(openporch_n['saleprice'], openporch_y['saleprice'])\n",
        "\n",
        "#Yes, the difference in saleprice between houses with and without open porches is very statistically significant."
      ],
      "execution_count": 42,
      "outputs": [
        {
          "output_type": "execute_result",
          "data": {
            "text/plain": [
              "Ttest_indResult(statistic=-17.31355834212178, pvalue=3.209770265256579e-61)"
            ]
          },
          "metadata": {
            "tags": []
          },
          "execution_count": 42
        }
      ]
    },
    {
      "cell_type": "markdown",
      "metadata": {
        "id": "Bwa-tC73CP6E",
        "colab_type": "text"
      },
      "source": [
        "8. Is there a significant correlation between the lotarea and saleprice variables? Are they positively or negatively correlated?"
      ]
    },
    {
      "cell_type": "code",
      "metadata": {
        "id": "1u4M5pYfEl39",
        "colab_type": "code",
        "colab": {
          "base_uri": "https://localhost:8080/",
          "height": 35
        },
        "outputId": "8fe3ad3a-561e-4caa-fa5a-2bf20e022275"
      },
      "source": [
        "#Pearson correlation test:\n",
        "\n",
        "stats.pearsonr(hp_df['openporchsf'], hp_df['saleprice'])\n",
        "\n",
        "#Yes, the lotarea and saleprice variables are positively correlated."
      ],
      "execution_count": 41,
      "outputs": [
        {
          "output_type": "execute_result",
          "data": {
            "text/plain": [
              "(0.3158562271160552, 3.49337362309738e-35)"
            ]
          },
          "metadata": {
            "tags": []
          },
          "execution_count": 41
        }
      ]
    }
  ]
}